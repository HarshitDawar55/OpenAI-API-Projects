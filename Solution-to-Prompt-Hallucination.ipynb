{
 "cells": [
  {
   "cell_type": "markdown",
   "id": "b133c37c-ca94-4e44-b59e-f0282f056145",
   "metadata": {},
   "source": [
    "# Solution to Prompt Hallucination in ChatGPT by Mr. Harshit Dawar!\n",
    "* The only solution to Prompt Hallucination is that we need to provide a very clear prompt. We have to very accurate from our side that if ChatGPT doesn't know about something, then what it needs to do."
   ]
  },
  {
   "cell_type": "code",
   "execution_count": 1,
   "id": "9c3a9dba-dcfb-47cf-8673-369ecdafbaab",
   "metadata": {},
   "outputs": [],
   "source": [
    "# Importing the required Libraries\n",
    "import openai\n",
    "import os\n",
    "from dotenv import load_dotenv"
   ]
  },
  {
   "cell_type": "code",
   "execution_count": 2,
   "id": "6665d3e2-acd9-4253-83c7-77958bbfbe88",
   "metadata": {},
   "outputs": [
    {
     "data": {
      "text/plain": [
       "True"
      ]
     },
     "execution_count": 2,
     "metadata": {},
     "output_type": "execute_result"
    }
   ],
   "source": [
    "# Loading the environment variables from the .env file\n",
    "load_dotenv()"
   ]
  },
  {
   "cell_type": "code",
   "execution_count": 3,
   "id": "f8780a0f-08b8-47a1-80e3-568adeb5d389",
   "metadata": {},
   "outputs": [],
   "source": [
    "# Associating the API Key\n",
    "openai.api_key = os.environ.get(\"OPENAI_KEY\", None)"
   ]
  },
  {
   "cell_type": "code",
   "execution_count": 4,
   "id": "ad263a04-c0e4-4f6c-8cf5-95d8ec1a0778",
   "metadata": {},
   "outputs": [],
   "source": [
    "# Generating a prompt to generate the Prompt Hallucination Effect\n",
    "prompt = \"Give me details about the legend Mr. Harshit Dawar! Tell me only if you are sure, otherwise, say 'I don't know, I will learn & tell!'\""
   ]
  },
  {
   "cell_type": "code",
   "execution_count": 5,
   "id": "81771bb7-d6fb-45af-ba9a-88c925ab1333",
   "metadata": {},
   "outputs": [],
   "source": [
    "# Generating the result from the ChatGPT\n",
    "result = openai.Completion.create(prompt = prompt, model = \"text-davinci-003\", max_tokens = 500)"
   ]
  },
  {
   "cell_type": "code",
   "execution_count": 6,
   "id": "7169b552-eb4f-490f-9001-62b8b299e80f",
   "metadata": {},
   "outputs": [
    {
     "name": "stdout",
     "output_type": "stream",
     "text": [
      "\n",
      "\n",
      "I don't know, I will learn & tell!\n"
     ]
    }
   ],
   "source": [
    "# Printing the result generated!\n",
    "print(result[\"choices\"][0][\"text\"])"
   ]
  },
  {
   "cell_type": "markdown",
   "id": "1ab5ee2b-81c4-4040-a7ac-5e909e527d9a",
   "metadata": {},
   "source": [
    "## Congratulations, you have witnessed another very powerful thing, that is how to solve Prompt Hallucination in ChatGPT!"
   ]
  }
 ],
 "metadata": {
  "kernelspec": {
   "display_name": "Python 3 (ipykernel)",
   "language": "python",
   "name": "python3"
  },
  "language_info": {
   "codemirror_mode": {
    "name": "ipython",
    "version": 3
   },
   "file_extension": ".py",
   "mimetype": "text/x-python",
   "name": "python",
   "nbconvert_exporter": "python",
   "pygments_lexer": "ipython3",
   "version": "3.10.9"
  }
 },
 "nbformat": 4,
 "nbformat_minor": 5
}
