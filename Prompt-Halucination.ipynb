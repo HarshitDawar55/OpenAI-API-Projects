{
 "cells": [
  {
   "cell_type": "markdown",
   "id": "cc4b042d-c39e-47a1-8002-18f2dee357d6",
   "metadata": {},
   "source": [
    "# Prompt Halucination in ChatGPT by `Mr. Harshit Dawar!`"
   ]
  },
  {
   "cell_type": "code",
   "execution_count": 16,
   "id": "56a74851-02aa-43b4-b3ae-e52cb18048d7",
   "metadata": {},
   "outputs": [],
   "source": [
    "# Importing the required Libraries\n",
    "import openai\n",
    "import os\n",
    "from dotenv import load_dotenv"
   ]
  },
  {
   "cell_type": "code",
   "execution_count": 17,
   "id": "079b9fe1-6b5a-4166-8643-e18121ac46d5",
   "metadata": {},
   "outputs": [
    {
     "data": {
      "text/plain": [
       "True"
      ]
     },
     "execution_count": 17,
     "metadata": {},
     "output_type": "execute_result"
    }
   ],
   "source": [
    "# Loading the environment variables from the .env file\n",
    "load_dotenv()"
   ]
  },
  {
   "cell_type": "code",
   "execution_count": 20,
   "id": "0f2426d9-6445-4d3c-bf4b-ba8873d750eb",
   "metadata": {},
   "outputs": [],
   "source": [
    "# Associating the API Key\n",
    "openai.api_key = os.environ.get(\"OPENAI_KEY\", None)"
   ]
  },
  {
   "cell_type": "code",
   "execution_count": 21,
   "id": "ab9cb026-ec7d-4391-bdc5-7ea5464637f3",
   "metadata": {},
   "outputs": [],
   "source": [
    "# Generating a prompt to generate the Prompt Hallucination Effect\n",
    "prompt = \"Give me details about the legend Mr. Harshit Dawar!\""
   ]
  },
  {
   "cell_type": "code",
   "execution_count": 24,
   "id": "0e500be0-c788-4a83-ab3d-1e2cf97bb7d6",
   "metadata": {},
   "outputs": [],
   "source": [
    "# Generating the result from the ChatGPT\n",
    "result = openai.Completion.create(prompt = prompt, model = \"text-davinci-003\", max_tokens = 500)"
   ]
  },
  {
   "cell_type": "code",
   "execution_count": 28,
   "id": "e0f2afab-6fba-49a5-abbf-3505dcb2507d",
   "metadata": {},
   "outputs": [
    {
     "name": "stdout",
     "output_type": "stream",
     "text": [
      "\n",
      "\n",
      "Mr. Harshit Dawar is an Indian civil servant and former chairman of the Maharashtra State Electricity Regulatory Commission. Born on August 1, 1957, Mr. Dawar is an alumnus of St. Xaviers College, Mumbai and Shri Ram College of Commerce, Delhi University.\n",
      "\n",
      "Mr. Dawar has worked in various government departments in many states of India as well as some of the biggest multinationals. His professional experience spans various industries such as finance, energy, and telecommunications.\n",
      "\n",
      "He has also served on various advisory committees such as the Technical Committee on Regulatory Processes of the Ministry of Power, the Inter-Ministerial Group on Resource Mobilization (IMGRM) and the Special Project Steering Committee of World Bank Project SARI/E (Strengthening of Institutional Capacity for Regulation of Electricity sector).\n",
      "\n",
      "Mr. Dawar is an acclaimed international expert on electricity regulatory matters and has given lectures in many countries such as U.K, Germany, Japan, China, USA, Italy, Finland, Indonesia, Portugal, UAE, Croatia, and the Philippines. He is also a sought-after trainer for regulators around the world, and has been enlisted for various capacity building initiatives.\n",
      "\n",
      "Moreover, he has been closely associated with various national and international civil and electrician society organizations as well. He is a life member of the Indian Institute of Power Engineers (IIPE); a recipient of the International Best Operator of the Year Award; a life member of the International Union of Electric Power Industries (IUEPI); and an honorary fellow of the Institution of Engineers, India.\n",
      "\n",
      "One of his most well known contributions has been in the field of regulatory process simplification in the electricity sector in India - the \"Dawar Package\". This package has been recognized by the Government of India and adopted by most of the regulators in the country.\n",
      "\n",
      "Today, even after completing his term as chairman at MSEC, he continues to mentor and advise various governments and industries across the globe. Mr. Harshit Dawar is considered to be one of the greatest minds in the electricity regulatory field in India, and rightly so.\n"
     ]
    }
   ],
   "source": [
    "# Printing the result generated!\n",
    "print(result[\"choices\"][0][\"text\"])"
   ]
  },
  {
   "cell_type": "markdown",
   "id": "81395a5e-e21c-4385-8676-4fc749572982",
   "metadata": {},
   "source": [
    "### Congratulations, you have witnessed the powerful thing - Prompt Hallucination!"
   ]
  }
 ],
 "metadata": {
  "kernelspec": {
   "display_name": "Python 3 (ipykernel)",
   "language": "python",
   "name": "python3"
  },
  "language_info": {
   "codemirror_mode": {
    "name": "ipython",
    "version": 3
   },
   "file_extension": ".py",
   "mimetype": "text/x-python",
   "name": "python",
   "nbconvert_exporter": "python",
   "pygments_lexer": "ipython3",
   "version": "3.10.9"
  }
 },
 "nbformat": 4,
 "nbformat_minor": 5
}
