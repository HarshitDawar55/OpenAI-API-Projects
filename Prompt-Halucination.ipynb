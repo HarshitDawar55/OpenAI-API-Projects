{
 "cells": [
  {
   "cell_type": "markdown",
   "id": "cc4b042d-c39e-47a1-8002-18f2dee357d6",
   "metadata": {},
   "source": [
    "# Prompt Hallucination in ChatGPT by `Mr. Harshit Dawar!`"
   ]
  },
  {
   "cell_type": "code",
   "execution_count": 1,
   "id": "56a74851-02aa-43b4-b3ae-e52cb18048d7",
   "metadata": {},
   "outputs": [],
   "source": [
    "# Importing the required Libraries\n",
    "import openai\n",
    "import os\n",
    "from dotenv import load_dotenv"
   ]
  },
  {
   "cell_type": "code",
   "execution_count": 2,
   "id": "079b9fe1-6b5a-4166-8643-e18121ac46d5",
   "metadata": {},
   "outputs": [
    {
     "data": {
      "text/plain": [
       "True"
      ]
     },
     "execution_count": 2,
     "metadata": {},
     "output_type": "execute_result"
    }
   ],
   "source": [
    "# Loading the environment variables from the .env file\n",
    "load_dotenv()"
   ]
  },
  {
   "cell_type": "code",
   "execution_count": 3,
   "id": "0f2426d9-6445-4d3c-bf4b-ba8873d750eb",
   "metadata": {},
   "outputs": [],
   "source": [
    "# Associating the API Key\n",
    "openai.api_key = os.environ.get(\"OPENAI_KEY\", None)"
   ]
  },
  {
   "cell_type": "code",
   "execution_count": 4,
   "id": "ab9cb026-ec7d-4391-bdc5-7ea5464637f3",
   "metadata": {},
   "outputs": [],
   "source": [
    "# Generating a prompt to generate the Prompt Hallucination Effect\n",
    "prompt = \"Give me details about the legend Mr. Harshit Dawar!\""
   ]
  },
  {
   "cell_type": "code",
   "execution_count": 5,
   "id": "0e500be0-c788-4a83-ab3d-1e2cf97bb7d6",
   "metadata": {},
   "outputs": [],
   "source": [
    "# Generating the result from the ChatGPT\n",
    "result = openai.Completion.create(prompt = prompt, model = \"text-davinci-003\", max_tokens = 500)"
   ]
  },
  {
   "cell_type": "code",
   "execution_count": 6,
   "id": "e0f2afab-6fba-49a5-abbf-3505dcb2507d",
   "metadata": {},
   "outputs": [
    {
     "name": "stdout",
     "output_type": "stream",
     "text": [
      "\n",
      "\n",
      "Harshit Dawar is an Indian digital marketing expert, social media influencer and YouTube content creator. He is best known for inspiring and motivating hundreds of thousands of people all over the globe with his video content.\n",
      "\n",
      "He created his YouTube channel in 2015 and today it has more than 3 million subscribers. He makes motivational and inspiring videos which discuss topics like digital marketing, social media growth, entrepreneurship, branding, etc.\n",
      "\n",
      "Apart from YouTube, he is also a podcaster, motivational speaker, and a social media influencer. He uses his platform to inspire young entrepreneurs and digital marketers to pursue their dreams. He is also an entrepreneur and has founded multiple digital marketing agencies.\n",
      "\n",
      "Harshit Dawar is a true legend and an inspiration for all aspiring entrepreneurs and digital marketers, and his work has made a huge impact on the digital marketing world.\n"
     ]
    }
   ],
   "source": [
    "# Printing the result generated!\n",
    "print(result[\"choices\"][0][\"text\"])"
   ]
  },
  {
   "cell_type": "markdown",
   "id": "81395a5e-e21c-4385-8676-4fc749572982",
   "metadata": {},
   "source": [
    "### Congratulations, you have witnessed the powerful thing - Prompt Hallucination!"
   ]
  }
 ],
 "metadata": {
  "kernelspec": {
   "display_name": "Python 3 (ipykernel)",
   "language": "python",
   "name": "python3"
  },
  "language_info": {
   "codemirror_mode": {
    "name": "ipython",
    "version": 3
   },
   "file_extension": ".py",
   "mimetype": "text/x-python",
   "name": "python",
   "nbconvert_exporter": "python",
   "pygments_lexer": "ipython3",
   "version": "3.10.9"
  }
 },
 "nbformat": 4,
 "nbformat_minor": 5
}
