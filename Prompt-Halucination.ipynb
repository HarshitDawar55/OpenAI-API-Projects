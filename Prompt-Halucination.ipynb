{
 "cells": [
  {
   "cell_type": "markdown",
   "id": "cc4b042d-c39e-47a1-8002-18f2dee357d6",
   "metadata": {},
   "source": [
    "# Prompt Hallucination in ChatGPT by `Mr. Harshit Dawar!`"
   ]
  },
  {
   "cell_type": "code",
   "execution_count": 1,
   "id": "56a74851-02aa-43b4-b3ae-e52cb18048d7",
   "metadata": {},
   "outputs": [],
   "source": [
    "# Importing the required Libraries\n",
    "import openai\n",
    "import os\n",
    "from dotenv import load_dotenv"
   ]
  },
  {
   "cell_type": "code",
   "execution_count": 2,
   "id": "079b9fe1-6b5a-4166-8643-e18121ac46d5",
   "metadata": {},
   "outputs": [
    {
     "data": {
      "text/plain": [
       "True"
      ]
     },
     "execution_count": 2,
     "metadata": {},
     "output_type": "execute_result"
    }
   ],
   "source": [
    "# Loading the environment variables from the .env file\n",
    "load_dotenv()"
   ]
  },
  {
   "cell_type": "code",
   "execution_count": 3,
   "id": "0f2426d9-6445-4d3c-bf4b-ba8873d750eb",
   "metadata": {},
   "outputs": [],
   "source": [
    "# Associating the API Key\n",
    "openai.api_key = os.environ.get(\"OPENAI_KEY\", None)"
   ]
  },
  {
   "cell_type": "code",
   "execution_count": 4,
   "id": "ab9cb026-ec7d-4391-bdc5-7ea5464637f3",
   "metadata": {},
   "outputs": [],
   "source": [
    "# Generating a prompt to generate the Prompt Hallucination Effect\n",
    "prompt = \"Give me details about the legend Mr. Harshit Dawar!\""
   ]
  },
  {
   "cell_type": "code",
   "execution_count": 5,
   "id": "0e500be0-c788-4a83-ab3d-1e2cf97bb7d6",
   "metadata": {},
   "outputs": [],
   "source": [
    "# Generating the result from the ChatGPT\n",
    "result = openai.Completion.create(prompt = prompt, model = \"text-davinci-003\", max_tokens = 500)"
   ]
  },
  {
   "cell_type": "code",
   "execution_count": 6,
   "id": "e0f2afab-6fba-49a5-abbf-3505dcb2507d",
   "metadata": {},
   "outputs": [
    {
     "name": "stdout",
     "output_type": "stream",
     "text": [
      "\n",
      "\n",
      "Harshit Dawar is an Indian entrepreneur, author, teacher, and motivational speaker. He is the founder and CEO of Dawar Group, an enterprise based in Indore, Madhya Pradesh. His forte is digital commerce, and he has specialized in teaching women and youth in innovative technologies. His books include \"Superlife\", which helps people to overcome life’s obstacles and doubts while learning success principles that he has learned over many years of experience. He has been a mentor to hundreds of entrepreneurs and students who want to launch their own business or take their career or studies to the next level. He has given talks and seminars to entrepreneurs and business communities in India and abroad. He is a firm believer in living a “superlife” — a life that is so highly optimized, that it is beyond the limits of what is possible.\n"
     ]
    }
   ],
   "source": [
    "# Printing the result generated!\n",
    "print(result[\"choices\"][0][\"text\"])"
   ]
  },
  {
   "cell_type": "markdown",
   "id": "81395a5e-e21c-4385-8676-4fc749572982",
   "metadata": {},
   "source": [
    "### Congratulations, you have witnessed the powerful thing - Prompt Hallucination!"
   ]
  }
 ],
 "metadata": {
  "kernelspec": {
   "display_name": "Python 3 (ipykernel)",
   "language": "python",
   "name": "python3"
  },
  "language_info": {
   "codemirror_mode": {
    "name": "ipython",
    "version": 3
   },
   "file_extension": ".py",
   "mimetype": "text/x-python",
   "name": "python",
   "nbconvert_exporter": "python",
   "pygments_lexer": "ipython3",
   "version": "3.10.9"
  }
 },
 "nbformat": 4,
 "nbformat_minor": 5
}
